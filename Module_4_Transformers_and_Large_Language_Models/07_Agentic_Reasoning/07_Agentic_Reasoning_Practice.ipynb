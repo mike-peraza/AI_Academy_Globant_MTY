{
 "cells": [
  {
   "cell_type": "markdown",
   "metadata": {},
   "source": [
    "### Implementing a Simple Agent with Rule-Based Reasoning\n",
    "\n",
    "#### 1. **Setup**\n",
    "\n",
    "Ensure you have Python installed on your system. You can run the following script using any Python IDE or directly from the command line.\n",
    "\n",
    "#### 2. **Python Script**\n"
   ]
  },
  {
   "cell_type": "code",
   "execution_count": 1,
   "metadata": {},
   "outputs": [
    {
     "name": "stdout",
     "output_type": "stream",
     "text": [
      "Step 0: Agent moved down to [1, 0]\n",
      "Step 1: Agent moved down to [2, 0]\n",
      "Step 2: Agent moved down to [3, 0]\n",
      "Step 3: Agent moved down to [4, 0]\n",
      "Step 4: Agent moved right to [4, 1]\n",
      "Step 5: Agent moved right to [4, 2]\n",
      "Step 6: Agent moved right to [4, 3]\n",
      "Step 7: Agent moved right to [4, 4]\n",
      "Goal reached in 8 steps!\n"
     ]
    }
   ],
   "source": [
    "class GridEnvironment:\n",
    "    def __init__(self, size):\n",
    "        self.size = size\n",
    "        self.agent_position = [0, 0]\n",
    "        self.goal_position = [size-1, size-1]\n",
    "        \n",
    "    def is_goal_reached(self):\n",
    "        return self.agent_position == self.goal_position\n",
    "    \n",
    "    def move_agent(self, action):\n",
    "        if action == 'up' and self.agent_position[0] > 0:\n",
    "            self.agent_position[0] -= 1\n",
    "        elif action == 'down' and self.agent_position[0] < self.size-1:\n",
    "            self.agent_position[0] += 1\n",
    "        elif action == 'left' and self.agent_position[1] > 0:\n",
    "            self.agent_position[1] -= 1\n",
    "        elif action == 'right' and self.agent_position[1] < self.size-1:\n",
    "            self.agent_position[1] += 1\n",
    "    \n",
    "    def get_state(self):\n",
    "        return self.agent_position\n",
    "\n",
    "class SimpleAgent:\n",
    "    def __init__(self, environment):\n",
    "        self.environment = environment\n",
    "    \n",
    "    def choose_action(self):\n",
    "        agent_pos = self.environment.get_state()\n",
    "        goal_pos = self.environment.goal_position\n",
    "        \n",
    "        # Simple rule-based decision\n",
    "        if agent_pos[0] < goal_pos[0]:\n",
    "            return 'down'\n",
    "        elif agent_pos[0] > goal_pos[0]:\n",
    "            return 'up'\n",
    "        elif agent_pos[1] < goal_pos[1]:\n",
    "            return 'right'\n",
    "        elif agent_pos[1] > goal_pos[1]:\n",
    "            return 'left'\n",
    "        return 'stay'\n",
    "    \n",
    "    def act(self):\n",
    "        action = self.choose_action()\n",
    "        self.environment.move_agent(action)\n",
    "        return action\n",
    "\n",
    "def main():\n",
    "    size = 5\n",
    "    env = GridEnvironment(size)\n",
    "    agent = SimpleAgent(env)\n",
    "    \n",
    "    steps = 0\n",
    "    while not env.is_goal_reached():\n",
    "        action = agent.act()\n",
    "        print(f\"Step {steps}: Agent moved {action} to {env.get_state()}\")\n",
    "        steps += 1\n",
    "    \n",
    "    print(f\"Goal reached in {steps} steps!\")\n",
    "\n",
    "if __name__ == \"__main__\":\n",
    "    main()"
   ]
  },
  {
   "cell_type": "markdown",
   "metadata": {},
   "source": [
    "#### 3. **Explanation**\n",
    "\n",
    "1. **GridEnvironment Class**\n",
    "   - **`__init__`**: Initializes the grid environment with a given size, agent's initial position, and goal position.\n",
    "   - **`is_goal_reached`**: Checks if the agent has reached the goal.\n",
    "   - **`move_agent`**: Moves the agent based on the chosen action ('up', 'down', 'left', 'right').\n",
    "   - **`get_state`**: Returns the current position of the agent.\n",
    "\n",
    "2. **SimpleAgent Class**\n",
    "   - **`__init__`**: Initializes the agent with the environment.\n",
    "   - **`choose_action`**: Chooses an action based on the agent's current position relative to the goal using a simple rule-based approach.\n",
    "   - **`act`**: Executes the chosen action in the environment.\n",
    "\n",
    "3. **Main Function**\n",
    "   - Creates an instance of the `GridEnvironment` and `SimpleAgent`.\n",
    "   - Executes actions in a loop until the goal is reached, printing the steps taken.\n",
    "\n",
    "#### 4. **Running the Script**\n",
    "\n",
    "Save the script to a file named `agentic_reasoning_example.py` and run it using:\n",
    "\n",
    "```bash\n",
    "python agentic_reasoning_example.py\n",
    "```\n",
    "\n",
    "#### 5. **Conclusion**\n",
    "\n",
    "This example illustrates a basic implementation of agentic reasoning using a rule-based approach. The agent makes decisions based on its current position relative to a goal in a grid environment. This is a simple yet effective way to understand how agents can reason about their actions to achieve specific objectives.\n",
    "\n",
    "By experimenting with this script, you can gain insights into the fundamental principles of agentic reasoning and explore more advanced techniques for decision-making and goal achievement in artificial agents.\n"
   ]
  }
 ],
 "metadata": {
  "kernelspec": {
   "display_name": "Python 3",
   "language": "python",
   "name": "python3"
  },
  "language_info": {
   "codemirror_mode": {
    "name": "ipython",
    "version": 3
   },
   "file_extension": ".py",
   "mimetype": "text/x-python",
   "name": "python",
   "nbconvert_exporter": "python",
   "pygments_lexer": "ipython3",
   "version": "3.9.2"
  }
 },
 "nbformat": 4,
 "nbformat_minor": 2
}
