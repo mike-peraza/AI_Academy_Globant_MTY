{
 "cells": [
  {
   "cell_type": "markdown",
   "metadata": {},
   "source": [
    "# Generating a Summary of a News Article\n",
    "\n",
    "For this practical example of prompt engineering using Python. We'll use the OpenAI GPT-3 API to demonstrate how to craft effective prompts to achieve specific outputs. For this example, let's assume we want to generate a summary of a news article.\n",
    "\n",
    "## Setup\n",
    "\n",
    "1. **Install the OpenAI Python Package**\n",
    "\n",
    "   Make sure you have the OpenAI Python package installed. You can install it using pip:"
   ]
  },
  {
   "cell_type": "code",
   "execution_count": null,
   "metadata": {
    "vscode": {
     "languageId": "shellscript"
    }
   },
   "outputs": [],
   "source": [
    "pip install openai"
   ]
  },
  {
   "cell_type": "markdown",
   "metadata": {},
   "source": [
    "2. **Get an OpenAI API Key**\n",
    "\n",
    "    To obtain an OpenAI API key and use it for interacting with GPT-3 or other OpenAI models, follow these steps:\n",
    "\n",
    "    1. Sign Up for an OpenAI Account\n",
    "        - Go to the [OpenAI website](https://www.openai.com/).\n",
    "        - Click on **Sign Up** if you don’t have an account, or **Log In** if you already do.\n",
    "        - Complete the registration process by providing the required information and verifying your email address.\n",
    "\n",
    "    2. Access the OpenAI API Dashboard\n",
    "        - After logging in, navigate to the [OpenAI API Dashboard](https://platform.openai.com/dashboard).\n",
    "        - You may be prompted to provide additional information or complete a brief onboarding process.\n",
    "\n",
    "    3. Create an API Key\n",
    "        - In the API Dashboard, locate the **API Keys** section.\n",
    "        - Click on the **Create new key** button or a similar option.\n",
    "        - Give your key a name (e.g., “My First API Key”) if prompted.\n",
    "        - The system will generate a new API key for you.\n",
    "\n",
    "    4. Copy Your API Key\n",
    "        - Copy the generated API key and store it securely. This key will be used to authenticate your requests to the OpenAI API.\n",
    "        - Be careful to keep your API key private. Do not share it or expose it in public repositories.\n",
    "\n",
    "    5. Set Up Billing Information (if applicable)\n",
    "        - Depending on your usage and the pricing plan you choose, you may need to set up billing information.\n",
    "        - Navigate to the **Billing** section in the API Dashboard to enter your payment details and review the pricing plans.\n",
    "        \n",
    "    > **If you have created or used an OpenAI product in the past, you might have free tiral credits expired, so a billing account might need to be linked**\n",
    "\n",
    "    6. Integrate the API Key into Your Application\n",
    "        - Use the copied API key in your application to authenticate API requests.\n",
    "        - For example, in Python, you can set the API key as shown in the code snippet below:\n",
    "\n",
    "    ### Additional Tips\n",
    "    - **Read the Documentation**: Familiarize yourself with the [OpenAI API documentation](https://platform.openai.com/docs) to understand how to use the API effectively, including available endpoints, parameters, and best practices.\n",
    "    - **Monitor Usage**: Keep track of your API usage and costs in the API Dashboard to avoid unexpected charges.\n",
    "    - **Secure Your API Key**: Store your API key securely, such as in environment variables or a secure configuration file, and avoid hardcoding it in your source code."
   ]
  },
  {
   "cell_type": "markdown",
   "metadata": {},
   "source": [
    "3. **Python Script for Generating a Summary**\n",
    "\n",
    "Here is a Python script that demonstrates how to use the GPT-3 API to generate a summary of a given news article."
   ]
  },
  {
   "cell_type": "code",
   "execution_count": null,
   "metadata": {},
   "outputs": [],
   "source": [
    "from openai import OpenAI\n",
    "\n",
    "client = OpenAI(\n",
    "    # Set up your OpenAI API key\n",
    "    api_key='YOU_API_KEY',\n",
    ")\n",
    "\n",
    "# Define the news article to be summarized\n",
    "news_article = \"\"\"\n",
    "In a major breakthrough for renewable energy, scientists have developed a new type of solar panel that is significantly more efficient than existing technologies. The new panel utilizes advanced materials that enhance light absorption and reduce energy loss. Early tests show that it can convert up to 30% more sunlight into electricity compared to traditional panels. This innovation has the potential to revolutionize the solar energy industry and accelerate the transition to clean energy sources.\n",
    "\"\"\"\n",
    "\n",
    "# Define the messages for summarization\n",
    "messages = [\n",
    "    {\"role\": \"system\", \"content\": \"You are a helpful assistant that summarizes news articles.\"},\n",
    "    {\"role\": \"user\", \"content\": f\"Summarize the following news article:\\n\\n{news_article}\"}\n",
    "]\n",
    "\n",
    "# Send the request to the OpenAI API and get the response\n",
    "response = client.chat.completions.create(\n",
    "    model=\"gpt-3.5-turbo\",  # or use \"gpt-4\"\n",
    "    messages=messages,\n",
    "    max_tokens=50,  # Adjust based on desired summary length\n",
    "    temperature=0.3  # Controls the randomness of the output\n",
    ")\n",
    "\n",
    "# Extract and print the summary\n",
    "summary = response['choices'][0]['message']['content'].strip()\n",
    "print(\"Summary:\", summary)\n",
    "\n"
   ]
  },
  {
   "cell_type": "markdown",
   "metadata": {},
   "source": [
    "\n",
    "## Conclusion\n",
    "This example demonstrates how to craft a prompt for summarizing a news article using GPT-3. By refining prompts and experimenting with different parameters, you can obtain concise and relevant summaries tailored to your needs."
   ]
  }
 ],
 "metadata": {
  "kernelspec": {
   "display_name": "Python 3",
   "language": "python",
   "name": "python3"
  },
  "language_info": {
   "codemirror_mode": {
    "name": "ipython",
    "version": 3
   },
   "file_extension": ".py",
   "mimetype": "text/x-python",
   "name": "python",
   "nbconvert_exporter": "python",
   "pygments_lexer": "ipython3",
   "version": "3.9.2"
  }
 },
 "nbformat": 4,
 "nbformat_minor": 2
}
