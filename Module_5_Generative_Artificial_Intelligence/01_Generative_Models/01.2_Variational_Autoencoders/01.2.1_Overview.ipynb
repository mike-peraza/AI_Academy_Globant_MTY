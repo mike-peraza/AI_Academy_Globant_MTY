{
 "cells": [
  {
   "cell_type": "markdown",
   "metadata": {},
   "source": [
    "# Introduction\n",
    "\n",
    "Variational Autoencoders (VAEs) are a class of generative models that combine principles from deep learning and Bayesian inference. They are particularly useful for tasks such as image generation, anomaly detection, and semi-supervised learning. Here's a summary of how VAEs work:"
   ]
  },
  {
   "cell_type": "markdown",
   "metadata": {},
   "source": [
    "## Overview\n",
    "\n",
    "1. **Structure:** A VAE consists of two main components:\n",
    "    - **Encoder:** This part maps the input data to a latent space (a compressed representation\n",
    "    - **Decoder:** This reconstructs the data from the latent space representation.\n",
    "2. **Latent Space Representation:** Unlike traditional autoencoders, which map inputs to a fixed point in the latent space, VAEs model the latent space as a probability distribution. This is typically done using a Gaussian distribution characterized by a mean and a variance."
   ]
  },
  {
   "cell_type": "markdown",
   "metadata": {},
   "source": [
    "## Working Mechanism\n",
    "1. **Input Encoding:**\n",
    "\n",
    "  - The encoder network takes an input 𝑥  and outputs two vectors: the mean 𝜇 and the variance $𝜎^2$ of the latent variable 𝑧.\n",
    "  - Instead of encoding 𝑥 directly to 𝑧, the encoder samples from the Gaussian distribution defined by 𝜇 and $𝜎^2$ using the reparameterization trick. This allows the gradients to flow through the stochastic part of the model during backpropagation.\n",
    "\n",
    "2. **Latent Variable Sampling:**\n",
    "\n",
    "  - The latent variable 𝑧 is sampled as follows:\n",
    "    𝑧 = z=μ+σ⋅ϵ\n",
    "\n",
    "    where 𝜖 is a noise variable drawn from a standard normal distribution.\n",
    "\n",
    "3. **Data Decoding:**\n",
    "\n",
    "  - The decoder takes the sampled latent variable 𝑧 and reconstructs the input data 𝑥^.\n",
    "\n",
    "4. **Loss Function:**\n",
    "\n",
    "  - The VAE is trained using a loss function that combines two components:\n",
    "    - **Reconstruction Loss:** Measures how well the decoder can reconstruct the input from the latent representation (usually using a pixel-wise loss, like binary cross-entropy).\n",
    "    - **KL Divergence Loss:** Regularizes the model by measuring how much the learned latent distribution deviates from the prior distribution (usually a standard normal distribution). This encourages the latent space to follow a Gaussian distribution.\n",
    "\n",
    "The total loss function can be expressed as:\n",
    "    Loss = Loss=Reconstruction Loss+β⋅KL Divergence\n",
    "\n",
    "where 𝛽 is a hyperparameter that controls the trade-off between reconstruction accuracy and the regularization.\n",
    "\n",
    "5. **Training:**\n",
    "\n",
    "  - The VAE is trained using standard optimization techniques (e.g., Adam) through backpropagation, allowing both the encoder and decoder networks to learn from the data."
   ]
  },
  {
   "cell_type": "markdown",
   "metadata": {},
   "source": [
    "## Applications\n",
    "\n",
    "VAEs are powerful for various tasks, including:\n",
    "\n",
    "- Generative Modeling: Creating new data samples similar to the training set.\n",
    "- Dimensionality Reduction: Learning compressed representations of data.\n",
    "- Anomaly Detection: Identifying outliers by comparing the reconstruction loss of data points."
   ]
  },
  {
   "cell_type": "markdown",
   "metadata": {},
   "source": [
    "## Summary\n",
    "\n",
    "VAEs leverage deep learning to learn complex distributions while incorporating Bayesian principles to ensure a structured latent space. This combination allows for effective data generation and representation, making VAEs a popular choice in many machine learning applications."
   ]
  }
 ],
 "metadata": {
  "language_info": {
   "name": "python"
  }
 },
 "nbformat": 4,
 "nbformat_minor": 2
}
