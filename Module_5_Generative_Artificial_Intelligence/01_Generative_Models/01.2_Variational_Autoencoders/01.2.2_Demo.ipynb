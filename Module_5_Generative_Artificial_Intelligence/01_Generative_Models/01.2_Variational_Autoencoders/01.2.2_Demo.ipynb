{
 "cells": [
  {
   "cell_type": "markdown",
   "metadata": {},
   "source": [
    "# Overview\n",
    "\n",
    "Here's a simple implementation of a Variational Autoencoder (VAE) using Python with TensorFlow and Keras. This example will demonstrate how to build a VAE to generate images from the MNIST dataset, which consists of handwritten digits."
   ]
  },
  {
   "cell_type": "markdown",
   "metadata": {},
   "source": [
    "## Prerequisites\n",
    "\n",
    "Make sure you have the folliwing libraries installed:"
   ]
  },
  {
   "cell_type": "code",
   "execution_count": null,
   "metadata": {},
   "outputs": [],
   "source": [
    "pip install tensorflow numpy matplotlib # type: ignore"
   ]
  },
  {
   "cell_type": "markdown",
   "metadata": {},
   "source": [
    "## Code Implementtion\n",
    "\n",
    "Here's the complete code for a simple VAE:"
   ]
  },
  {
   "cell_type": "code",
   "execution_count": null,
   "metadata": {},
   "outputs": [],
   "source": [
    "import numpy as np\n",
    "import matplotlib.pyplot as plt\n",
    "import tensorflow as tf\n",
    "from tensorflow.keras import layers, models\n",
    "\n",
    "# Load and preprocess the MNIST dataset\n",
    "(x_train, _), (x_test, _) = tf.keras.datasets.mnist.load_data()\n",
    "x_train = x_train.astype(\"float32\") / 255.0\n",
    "x_test = x_test.astype(\"float32\") / 255.0\n",
    "x_train = np.reshape(x_train, (len(x_train), 28, 28, 1))\n",
    "x_test = np.reshape(x_test, (len(x_test), 28, 28, 1))\n",
    "\n",
    "# Define the VAE model\n",
    "latent_dim = 2  # Dimensionality of the latent space\n",
    "\n",
    "# Encoder\n",
    "encoder_inputs = layers.Input(shape=(28, 28, 1))\n",
    "x = layers.Flatten()(encoder_inputs)\n",
    "x = layers.Dense(128, activation='relu')(x)\n",
    "z_mean = layers.Dense(latent_dim)(x)\n",
    "z_log_var = layers.Dense(latent_dim)(x)\n",
    "\n",
    "# Reparameterization trick\n",
    "def sampling(args):\n",
    "    z_mean, z_log_var = args\n",
    "    epsilon = tf.random.normal(shape=tf.shape(z_mean))\n",
    "    return z_mean + tf.exp(0.5 * z_log_var) * epsilon\n",
    "\n",
    "z = layers.Lambda(sampling, output_shape=(latent_dim,))([z_mean, z_log_var])\n",
    "\n",
    "# Decoder\n",
    "decoder_inputs = layers.Input(shape=(latent_dim,))\n",
    "x = layers.Dense(128, activation='relu')(decoder_inputs)\n",
    "x = layers.Dense(28 * 28, activation='sigmoid')(x)\n",
    "decoder_outputs = layers.Reshape((28, 28, 1))(x)\n",
    "\n",
    "# Build the VAE model\n",
    "encoder = models.Model(encoder_inputs, [z_mean, z_log_var, z], name=\"encoder\")\n",
    "decoder = models.Model(decoder_inputs, decoder_outputs, name=\"decoder\")\n",
    "\n",
    "# VAE model\n",
    "vae_outputs = decoder(encoder(encoder_inputs)[2])\n",
    "vae = models.Model(encoder_inputs, vae_outputs, name=\"vae\")\n",
    "\n",
    "# Loss function\n",
    "def vae_loss(original, reconstructed):\n",
    "    reconstruction_loss = tf.keras.losses.binary_crossentropy(original, reconstructed)\n",
    "    reconstruction_loss *= 28 * 28  # Scale by the number of pixels\n",
    "    kl_loss = -0.5 * tf.reduce_mean(z_log_var - tf.square(z_mean) - tf.exp(z_log_var) + 1)\n",
    "    return tf.reduce_mean(reconstruction_loss + kl_loss)\n",
    "\n",
    "# Compile the model\n",
    "vae.compile(optimizer='adam', loss=vae_loss)\n",
    "\n",
    "# Train the VAE\n",
    "vae.fit(x_train, x_train, epochs=30, batch_size=128, validation_data=(x_test, x_test))\n",
    "\n",
    "# Generate new images from the VAE\n",
    "def generate_images(num_images):\n",
    "    z_samples = np.random.normal(size=(num_images, latent_dim))\n",
    "    generated_images = decoder.predict(z_samples)\n",
    "    return generated_images\n",
    "\n",
    "# Display generated images\n",
    "num_images = 10\n",
    "generated_images = generate_images(num_images)\n",
    "\n",
    "plt.figure(figsize=(10, 2))\n",
    "for i in range(num_images):\n",
    "    ax = plt.subplot(2, 10, i + 1)\n",
    "    plt.imshow(generated_images[i].reshape(28, 28), cmap='gray')\n",
    "    plt.axis('off')\n",
    "\n",
    "plt.show()\n"
   ]
  }
 ],
 "metadata": {
  "kernelspec": {
   "display_name": "Python 3",
   "language": "python",
   "name": "python3"
  },
  "language_info": {
   "name": "python",
   "version": "3.12.5"
  }
 },
 "nbformat": 4,
 "nbformat_minor": 2
}
