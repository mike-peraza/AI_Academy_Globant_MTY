{
 "cells": [
  {
   "cell_type": "markdown",
   "metadata": {},
   "source": [
    "Stemming\n",
    "Stemming is a process in Natural Language Processing (NLP) that aims to reduce words to their base or root form, called a stem. \n",
    "It involves removing suffixes or prefixes from words to obtain the core meaning of the word. \n",
    "The resulting stems may not always be valid words, but they allow for grouping together different variations of the same word.\n",
    "\n",
    "Stemming Example: Let's consider a sentence: \"I am running in the park.\"\n",
    "\n",
    "If we apply stemming to this sentence, we can use the popular stemming algorithm called the Porter stemming algorithm. \n",
    "Here's an example using the NLTK library in Python:"
   ]
  },
  {
   "cell_type": "code",
   "execution_count": 1,
   "metadata": {},
   "outputs": [
    {
     "name": "stdout",
     "output_type": "stream",
     "text": [
      "['i', 'am', 'run', 'in', 'the', 'park', '.']\n"
     ]
    }
   ],
   "source": [
    "from nltk.stem import PorterStemmer\n",
    "from nltk.tokenize import word_tokenize\n",
    "\n",
    "sentence = \"I am running in the park.\"\n",
    "\n",
    "# Tokenize the sentence\n",
    "tokens = word_tokenize(sentence)\n",
    "\n",
    "# Initialize PorterStemmer\n",
    "stemmer = PorterStemmer()\n",
    "\n",
    "# Apply stemming to each token\n",
    "stems = [stemmer.stem(token) for token in tokens]\n",
    "\n",
    "# Print the stems\n",
    "print(stems)"
   ]
  },
  {
   "cell_type": "markdown",
   "metadata": {},
   "source": [
    "In this example, we first import the necessary NLTK modules (installed in a previus chapter 01_Tokenization): PorterStemmer for stemming and word_tokenize for tokenization. \n",
    "The sentence \"I am running in the park.\" is then tokenized into separate words.\n",
    "\n",
    "Next, we initialize a PorterStemmer object, which implements the Porter stemming algorithm. \n",
    "We iterate over each token and apply stemming using the stem() method of the stemmer object.\n",
    "\n",
    "Finally, we print the resulting stems, which will be ['I', 'am', 'run', 'in', 'the', 'park', '.']. \n",
    "Notice how words like \"running\" have been reduced to their stem \"run\", providing a normalized representation of the words.\n",
    "\n",
    "Stemming is useful for various NLP tasks, such as information retrieval, text mining, and language modeling, \n",
    "where the focus is on the general meaning of words rather than their specific variations."
   ]
  }
 ],
 "metadata": {
  "kernelspec": {
   "display_name": "Python 3",
   "language": "python",
   "name": "python3"
  },
  "language_info": {
   "codemirror_mode": {
    "name": "ipython",
    "version": 3
   },
   "file_extension": ".py",
   "mimetype": "text/x-python",
   "name": "python",
   "nbconvert_exporter": "python",
   "pygments_lexer": "ipython3",
   "version": "3.11.9"
  }
 },
 "nbformat": 4,
 "nbformat_minor": 2
}
