{
 "cells": [
  {
   "cell_type": "markdown",
   "metadata": {},
   "source": [
    "### Stop theory, lets go and try!\n",
    "\n",
    "Here's an implementation of Bag of Words (BoW) and Term Frequency-Inverse Document Frequency (TF-IDF) using scikit-learn in Python. I'll also provide some practical exercises for you to try, but first:"
   ]
  },
  {
   "cell_type": "code",
   "execution_count": null,
   "metadata": {},
   "outputs": [],
   "source": [
    "#installation of nltk is with pip install, open your terminal externally or use terminal in visual studio and write:\n",
    "pip install scikit-learn"
   ]
  },
  {
   "cell_type": "code",
   "execution_count": null,
   "metadata": {},
   "outputs": [],
   "source": [
    "from sklearn.feature_extraction.text import CountVectorizer, TfidfVectorizer\n",
    "\n",
    "# Sample documents\n",
    "documents = [\n",
    "    \"I love to eat pizza\",\n",
    "    \"Pizza is my favorite food\",\n",
    "    \"I enjoy eating pizza with friends\"\n",
    "]\n",
    "\n",
    "# Bag of Words (BoW)\n",
    "vectorizer_bow = CountVectorizer()\n",
    "bow_matrix = vectorizer_bow.fit_transform(documents)\n",
    "\n",
    "# Print vocabulary and BoW matrix\n",
    "print(\"Bag of Words (BoW):\")\n",
    "print(\"Vocabulary:\")\n",
    "print(vectorizer_bow.get_feature_names_out())  # Access vocabulary directly\n",
    "print(\"BoW Matrix:\")\n",
    "print(bow_matrix.toarray())\n",
    "print()\n",
    "\n",
    "# Term Frequency-Inverse Document Frequency (TF-IDF)\n",
    "vectorizer_tfidf = TfidfVectorizer()\n",
    "tfidf_matrix = vectorizer_tfidf.fit_transform(documents)\n",
    "\n",
    "# Print vocabulary and TF-IDF matrix\n",
    "print(\"Term Frequency-Inverse Document Frequency (TF-IDF):\")\n",
    "print(\"Vocabulary:\")\n",
    "print(vectorizer_tfidf.get_feature_names_out())  # Access vocabulary directly\n",
    "print(\"TF-IDF Matrix:\")\n",
    "print(tfidf_matrix.toarray())\n"
   ]
  },
  {
   "cell_type": "markdown",
   "metadata": {},
   "source": [
    "The outputs will be the vocabulary and the corresponding BoW and TF-IDF matrices for the given sample documents.\n",
    "\n",
    "Feel free to modify the sample documents and experiment with different text data to observe how the vocabulary and the representations change.\n",
    "\n",
    "Sorry, more \"tehory\":\n",
    "\n",
    "Explanation for the output of Bag of Words (BoW) and Term Frequency-Inverse Document Frequency (TF-IDF):\n",
    "\n",
    "1. Bag of Words (BoW):\n",
    "   - Vocabulary: The unique words present in the documents.\n",
    "   - BoW Matrix: The frequency of occurrence of each word in the documents.\n",
    "   - Interpretation: BoW allows comparison and analysis of documents based on word frequencies.\n",
    "   - Applications: BoW is used for text classification, sentiment analysis, and document clustering.\n",
    "\n",
    "2. Term Frequency-Inverse Document Frequency (TF-IDF):\n",
    "   - Vocabulary: The unique words present in the documents.\n",
    "   - TF-IDF Matrix: The importance of each word in the documents.\n",
    "   - Interpretation: TF-IDF highlights important and distinctive words in each document.\n",
    "   - Applications: TF-IDF is used for keyword extraction, text summarization, and information retrieval."
   ]
  }
 ],
 "metadata": {
  "kernelspec": {
   "display_name": "Python 3",
   "language": "python",
   "name": "python3"
  },
  "language_info": {
   "codemirror_mode": {
    "name": "ipython",
    "version": 3
   },
   "file_extension": ".py",
   "mimetype": "text/x-python",
   "name": "python",
   "nbconvert_exporter": "python",
   "pygments_lexer": "ipython3",
   "version": "3.11.9"
  }
 },
 "nbformat": 4,
 "nbformat_minor": 2
}
