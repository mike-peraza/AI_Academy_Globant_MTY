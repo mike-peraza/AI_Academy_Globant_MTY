{
 "cells": [
  {
   "cell_type": "markdown",
   "metadata": {},
   "source": [
    "### Understanding Term Frequency-Inverse Document Frequency (TF-IDF)\n",
    "\n",
    "Term Frequency-Inverse Document Frequency (TF-IDF) is a widely used weighting scheme that assigns importance to words in a document within a collection of documents. \n",
    "It aims to capture the significance of a word by considering its frequency in the document (Term Frequency) and its rarity across the entire document collection (Inverse Document Frequency).\n",
    "\n",
    "The TF-IDF score for a word in a document is calculated using the following formula:\n",
    "\n",
    "`TF-IDF = Term Frequency (TF) * Inverse Document Frequency (IDF)`\n",
    "\n",
    "Let's understand the components of TF-IDF in detail:\n",
    "\n",
    "1. **Term Frequency (TF):**\n",
    "   - Term Frequency measures the frequency of a word within a document. It indicates how often a word occurs in a specific document relative to the total number of words in that document.\n",
    "   - The most common approach to calculate TF is to use the raw count of a word in a document divided by the total number of words in the document.\n",
    "   - TF assigns higher weights to words that appear more frequently within a document.\n",
    "\n",
    "\n",
    "2. **Inverse Document Frequency (IDF):**\n",
    "   - Inverse Document Frequency measures the rarity or importance of a word across the entire document collection.\n",
    "   - IDF is calculated by taking the logarithm of the total number of documents divided by the number of documents containing the word, and then adding 1 to avoid division by zero.\n",
    "   - IDF assigns higher weights to words that are less common across the document collection, as they are considered more informative.\n",
    "\n",
    "\n",
    "3. **TF-IDF:**\n",
    "   - The TF-IDF score combines the Term Frequency and Inverse Document Frequency to assign a weight to each word in a document.\n",
    "   - Words with a high TF-IDF score are those that are frequent within a document but rare in the overall collection, indicating their importance in that particular document.\n",
    "   - TF-IDF helps in identifying the most distinguishing and relevant words in a document.\n",
    "\n",
    "\n",
    "The TF-IDF scheme is commonly used in various NLP tasks, such as information retrieval, document classification, and text mining. It helps to highlight important words and filter out common or less informative words.\n",
    "\n",
    "By employing TF-IDF, you can identify key terms and understand their significance within a document collection, making it a valuable tool for text analysis and document representation."
   ]
  }
 ],
 "metadata": {
  "language_info": {
   "name": "python"
  }
 },
 "nbformat": 4,
 "nbformat_minor": 2
}
