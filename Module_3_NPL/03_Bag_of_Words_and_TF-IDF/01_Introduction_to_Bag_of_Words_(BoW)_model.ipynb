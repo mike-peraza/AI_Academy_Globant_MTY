{
 "cells": [
  {
   "cell_type": "markdown",
   "metadata": {},
   "source": [
    "### Introduction to Bag of Words (BoW) model\n",
    "\n",
    "The Bag of Words (BoW) model is a popular and simple approach in Natural Language Processing (NLP) for representing text data. \n",
    "It treats a document as an unordered collection or \"bag\" of words, disregarding grammar and word order, and only considering the frequency of occurrence of words.\n",
    "\n",
    "#### *The BoW model consists of the following steps:*\n",
    "\n",
    "1. **Tokenization:** The text is divided into individual words or tokens. These tokens represent the basic units of text for analysis.\n",
    "\n",
    "2. **Vocabulary Creation:** A unique vocabulary is built by collecting all the unique words from the text data. Each word becomes a feature or dimension in the BoW representation.\n",
    "\n",
    "3. **Word Frequency Count:** For each document or text sample, the frequency of occurrence of each word in the vocabulary is counted. This results in a numerical representation of the document, where each word's count becomes a feature value.\n",
    "\n",
    "4. **Vector Representation:** Each document is represented as a vector, with the length equal to the size of the vocabulary. The value in each dimension of the vector corresponds to the frequency of the word in the document.\n",
    "\n",
    "The BoW model provides a simple and efficient way to represent text data, enabling the application of various machine learning algorithms that require numerical inputs. However, it has limitations, such as the loss of word order and ignoring grammar and semantics. Despite its simplicity, the BoW model has been widely used in text classification, sentiment analysis, and information retrieval tasks.\n",
    "\n",
    "Here's a simplified example to illustrate the BoW model:\n",
    "\n",
    "Consider two sentences: \"I love cats\" and \"I love dogs.\"\n",
    "\n",
    "The BoW representation for these sentences would be:\n",
    "\n",
    "| Sentence         | BoW Representation                |\n",
    "|------------------|----------------------------------|\n",
    "| I love cats      | [1, 1, 1, 0]                     |\n",
    "| I love dogs      | [1, 1, 0, 1]                     |\n",
    "\n",
    "In this example, the vocabulary consists of the unique words: \"I\", \"love\", \"cats\", and \"dogs\". Each sentence is represented as a vector, where the value in each dimension corresponds to the frequency of the word in the sentence.\n",
    "\n",
    "The BoW model allows for quantitative analysis of text data, enabling the application of various machine learning techniques to derive insights and make predictions based on the textual information."
   ]
  }
 ],
 "metadata": {
  "language_info": {
   "name": "python"
  }
 },
 "nbformat": 4,
 "nbformat_minor": 2
}
