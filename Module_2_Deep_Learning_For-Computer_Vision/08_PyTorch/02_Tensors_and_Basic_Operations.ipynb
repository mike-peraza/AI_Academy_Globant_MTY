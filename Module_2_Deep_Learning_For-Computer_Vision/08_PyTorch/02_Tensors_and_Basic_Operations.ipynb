{
 "cells": [
  {
   "attachments": {
    "image.png": {
     "image/png": "[encoded data removed]"
    }
   },
   "cell_type": "markdown",
   "metadata": {},
   "source": [
    "# What is a Tensor?\n",
    "\n",
    "Tensors are the core data structure in PyTorch, analogous to NumPy arrays but with GPU acceleration. They handle and store the data in all stages of deep learning. Tensors are a multidimensional array containing elements of a single data type.\n",
    "\n",
    "Inputs, intermediate representations, and outputs are all stored as tensors.\n",
    "\n",
    "![image.png](attachment:image.png)"
   ]
  },
  {
   "cell_type": "code",
   "execution_count": null,
   "metadata": {},
   "outputs": [],
   "source": [
    "# Install the PyTorch library\n",
    "pip install torch"
   ]
  },
  {
   "cell_type": "code",
   "execution_count": null,
   "metadata": {},
   "outputs": [],
   "source": [
    "import torch\n",
    "\n",
    "# Creating a 0-d scalar tensor\n",
    "scalarTensor = torch.tensor(3)\n",
    "print(scalarTensor)\n",
    "print(scalarTensor.dim())"
   ]
  },
  {
   "cell_type": "code",
   "execution_count": null,
   "metadata": {},
   "outputs": [],
   "source": [
    "# Creating a 1-d scalar tensor\n",
    "vectorTensor = torch.Tensor([3,1])\n",
    "print(vectorTensor[0])\n",
    "print(vectorTensor.dim())"
   ]
  },
  {
   "cell_type": "markdown",
   "metadata": {},
   "source": [
    "### Tensor vs ndarray\n",
    "\n",
    "- Tensors is similar to the fundamental object in NumPy called ndarray.\n",
    "- ndarray is defined as an n-dimensional homogeneous array of fixed-size items.\n",
    "\n",
    "You may wonder, what is the **difference between tensor and ndarray?** Tensors in PyTorch are similar to NumPy's ndarrays. But tensors have additional advantages that make them more suitable for deep learning calculations. Some of those advantages are tensor operations are:\n",
    "\n",
    "- Tensors performed significantly faster using graphical processing units, or GPUs. \n",
    "- Tensors can be stored and manipulated at scale using distributed processing on multiple CPUs and GPUs and across multiple servers. \n",
    "- Tensors keep track of the graph of computation that created them. \n",
    "\n",
    "With all those mentioned, you can see that tensors are much more than a special sort of multidimensional arrays. Tensors interact with each other such that transforming tensors as a whole means that each tensor follows a particular transformation rule. \n",
    "\n",
    "Now, let's see some code examples:"
   ]
  },
  {
   "cell_type": "markdown",
   "metadata": {},
   "source": [
    "### Different Ways to create Tensors\n",
    "\n",
    "We can construct tensors directly from Python objects like lists, tuples or NumPy arrays. We can also create tensors by using different functions in case we want to generate a particular type of tensor."
   ]
  },
  {
   "cell_type": "code",
   "execution_count": null,
   "metadata": {},
   "outputs": [],
   "source": [
    "import torch\n",
    "import numpy as np\n",
    "\n",
    "# Create a Tensor from a Python list\n",
    "tens_list = torch.tensor([1, 2, 3, 4, 5])\n",
    "# Create a Tensor from a Tuple\n",
    "tens_tuple = torch.tensor((6, 7, 8, 9, 10))\n",
    "# Create a Tensor from a ndarray\n",
    "tens_array = torch.tensor(np.array([11,12,13,14,15]))\n",
    "\n",
    "print(\"Tensor from list: \", tens_list)\n",
    "print(\"Tensor from Tuple: \", tens_tuple)\n",
    "print(\"Tensor from Array: \", tens_array)"
   ]
  },
  {
   "cell_type": "markdown",
   "metadata": {},
   "source": [
    "#### Functions for creating tensors\n",
    "\n",
    "The most useful ones are **torch.empty(), torch.ones()** and **torch.zeros()**. As you can see, each one of them is used with a torch namespace. These functions take integers as the first two arguments, which specified the size of a tensor. You can easily guess what they do from their name. "
   ]
  },
  {
   "cell_type": "code",
   "execution_count": null,
   "metadata": {},
   "outputs": [],
   "source": [
    "tens_empty = torch.empty(3,4)\n",
    "print(\"Tensor with empty values: \", tens_empty)\n",
    "\n",
    "tens_zero = torch.zeros(3,4)\n",
    "print(\"Tensor with zero values: \", tens_zero)\n",
    "\n",
    "tens_ones = torch.ones(3,4)\n",
    "print(\"Tensor with one values: \", tens_ones)"
   ]
  },
  {
   "cell_type": "markdown",
   "metadata": {},
   "source": [
    "You can also initialize tensors with random values, and PyTorch has a few useful functions called **torch.rand, torch.randn** and **torch.randint**. "
   ]
  },
  {
   "cell_type": "code",
   "execution_count": null,
   "metadata": {},
   "outputs": [],
   "source": [
    "# Create a Tensor filled with random numbers from a uniform distribution\n",
    "tens_rand_uni = torch.rand(4,5)\n",
    "print(\"Tensor with random values from uniform distribution: \", tens_rand_uni)\n",
    "\n",
    "# Create a Tensor filled with random numbers from a normal distribution\n",
    "tens_rand_norm = torch.randn(4,5)\n",
    "print(\"Tensor with random values from normal distribution: \", tens_rand_norm)\n",
    "\n",
    "# Create a Tensor filled with random integers generated uniformly\n",
    "tens_rand_int = torch.randint(5, 10, (4,5))\n",
    "print(\"Tensor with random integer values: \", tens_rand_int)"
   ]
  },
  {
   "cell_type": "markdown",
   "metadata": {},
   "source": [
    "### Basic Operations with CPU device"
   ]
  },
  {
   "cell_type": "markdown",
   "metadata": {},
   "source": [
    "#### Add\n",
    "\n",
    "We can do it by using the **plus operator (+)**"
   ]
  },
  {
   "cell_type": "code",
   "execution_count": null,
   "metadata": {},
   "outputs": [],
   "source": [
    "# If not import already\n",
    "import torch\n",
    "\n",
    "# Create your first tensors\n",
    "first_tens = torch.tensor([[12, 10, 11, 9], [13, 15, 14, 16]])\n",
    "second_tens = torch.tensor([[1, 2, 3, 4], [5, 6, 7, 8]])\n",
    "\n",
    "# Perform the add operation\n",
    "add_tens = first_tens + second_tens\n",
    "\n",
    "# Print the results\n",
    "print(add_tens)\n",
    "print(add_tens.size())"
   ]
  },
  {
   "cell_type": "markdown",
   "metadata": {},
   "source": [
    "As you can see, it's the sum of tensors first_tens and second_tens, and you can see its dimensions are two by four."
   ]
  },
  {
   "cell_type": "markdown",
   "metadata": {},
   "source": [
    "#### Substraction\n",
    "\n",
    "We calculate it by using the **minus operator (-)**"
   ]
  },
  {
   "cell_type": "code",
   "execution_count": null,
   "metadata": {},
   "outputs": [],
   "source": [
    "# Take the previous tensors as reference\n",
    "sub_tens = first_tens - second_tens\n",
    "print(sub_tens)\n",
    "print(sub_tens.size())"
   ]
  },
  {
   "cell_type": "markdown",
   "metadata": {},
   "source": [
    "### Basic Operations with GPU device\n",
    "\n",
    "GPUs were originally developed for rendering computer graphics. Now with all Artificial Inteligence processing and the need for speed of computational processing involving neural networks, they now play a crucial role in deep learning.\n",
    "\n",
    "In PyTorch, we have the **CUDA library** that is instrumental in detecting, activating, and harnessing the power of GPUs."
   ]
  },
  {
   "cell_type": "code",
   "execution_count": 7,
   "metadata": {},
   "outputs": [
    {
     "name": "stdout",
     "output_type": "stream",
     "text": [
      "2.3.1+cpu\n"
     ]
    }
   ],
   "source": [
    "# If not import already\n",
    "import torch\n",
    "\n",
    "print(torch.__version__)"
   ]
  },
  {
   "cell_type": "markdown",
   "metadata": {},
   "source": [
    "By calling the **torch.cuda.is_available** function, we'll move the tensors to the GPU device if one is available."
   ]
  },
  {
   "cell_type": "code",
   "execution_count": 8,
   "metadata": {},
   "outputs": [
    {
     "name": "stdout",
     "output_type": "stream",
     "text": [
      "cpu\n"
     ]
    }
   ],
   "source": [
    "if torch.cuda.is_available(): device = \"cuda\"\n",
    "else: device = \"cpu\"\n",
    "\n",
    "print(device)"
   ]
  },
  {
   "cell_type": "markdown",
   "metadata": {},
   "source": [
    "### Multiplication\n",
    "\n",
    "We will continue with the basic arithmetic operations.This time for Multiplication. We can do that using the **asterisk operator (*)** and store the result in the third tensor, which we'll call multi_tens."
   ]
  },
  {
   "cell_type": "code",
   "execution_count": 12,
   "metadata": {},
   "outputs": [
    {
     "name": "stdout",
     "output_type": "stream",
     "text": [
      "tensor([[180, 209, 240, 273],\n",
      "        [308, 345, 384, 425]])\n"
     ]
    }
   ],
   "source": [
    "tens_a = torch.tensor([[10, 11, 12, 13], [14, 15, 16, 17]], device=device)\n",
    "tens_b = torch.tensor([[18, 19, 20, 21], [22, 23, 24, 25]], device=device)\n",
    "multi_tens = tens_a * tens_b\n",
    "print(multi_tens)"
   ]
  },
  {
   "cell_type": "markdown",
   "metadata": {},
   "source": [
    "In case the GPU was enable, the output tensor will also be allocated to the GPU. When we run the code, we will get the output, in our case, device='cuda:0' which indicates that the first GPU is being used. \n",
    "\n",
    "In the case our device contains multiple GPUs, we can control which GPU is being used."
   ]
  },
  {
   "cell_type": "markdown",
   "metadata": {},
   "source": [
    "### Moving Tensors between CPUs and GPUs\n",
    "\n",
    "A few important reasons exist for moving the tenors between CPUs and GPUs. By default, in PyTorch, all the data are in the CPU. \n",
    "\n",
    "In case we are training neural network, which is huge, we prefer to use GPU for faster training. For example, if we have high dimensional tensors that represent images, their computation intents, and take too much time if run over the CPU. \n",
    "\n",
    "- So we need to transfer the data from the CPU to the GPU. \n",
    "- Additionally, after the training, the output tensors are produced in GPU.\n",
    "- Sometimes the output data requires pre-processing. \n",
    "- Some pre-processing libraries don't support tensors, and expect an NumPy array. In that case, NumPy supports only data in the CPU, so there is a need to move the data from the CPU to the GPU. \n",
    "\n",
    "Luckily, tensors can be moved easily from the CPU to GPU device with the torch to method. We can call this method in one of the three ways:"
   ]
  },
  {
   "cell_type": "code",
   "execution_count": null,
   "metadata": {},
   "outputs": [],
   "source": [
    "# First way, \n",
    "Tensor.cuda()\n",
    "\n",
    "# Second way, \n",
    "Tensor.to(\"cuda\")\n",
    "\n",
    "# Third way, \n",
    "Tensor.to(\"cuda:0\")"
   ]
  },
  {
   "cell_type": "markdown",
   "metadata": {},
   "source": [
    "When we need to move the tensors in the opposite direction from the GPU to CPU, there are two possible cases:"
   ]
  },
  {
   "cell_type": "code",
   "execution_count": null,
   "metadata": {},
   "outputs": [],
   "source": [
    "# 1st case Tensor with required_grad = False\n",
    "Tensor.cpu()\n",
    "\n",
    "# 2nd case Tensor with required_grad = True\n",
    "Tensor.detach().cpu()"
   ]
  },
  {
   "cell_type": "markdown",
   "metadata": {},
   "source": [
    "# Additional References\n",
    "\n",
    "- [Tensors](https://pytorch.org/tutorials/beginner/basics/tensorqs_tutorial.html)\n",
    "- [Introduction to PyTorch Tensors](https://pytorch.org/tutorials/beginner/introyt/tensors_deeper_tutorial.html)"
   ]
  }
 ],
 "metadata": {
  "kernelspec": {
   "display_name": "Python 3",
   "language": "python",
   "name": "python3"
  },
  "language_info": {
   "codemirror_mode": {
    "name": "ipython",
    "version": 3
   },
   "file_extension": ".py",
   "mimetype": "text/x-python",
   "name": "python",
   "nbconvert_exporter": "python",
   "pygments_lexer": "ipython3",
   "version": "3.12.3"
  }
 },
 "nbformat": 4,
 "nbformat_minor": 2
}
