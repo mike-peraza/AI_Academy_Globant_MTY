{
  "cells": [
    {
      "attachments": {},
      "cell_type": "markdown",
      "id": "5fd292c6",
      "metadata": {},
      "source": [
        "## Fundamentals of Deep Learning\n",
        "\n",
        "This section would cover the basic concepts of Deep Learning, including an introduction to neural networks.\n",
        "\n"
      ]
    },
    {
      "attachments": {},
      "cell_type": "markdown",
      "id": "cdc2250a",
      "metadata": {},
      "source": [
        "Deep Learning is a subfield of machine learning that focuses on training artificial neural networks to learn and make predictions from data."
      ]
    },
    {
      "attachments": {},
      "cell_type": "markdown",
      "id": "0dd8a844",
      "metadata": {},
      "source": [
        "<p align=\"center\" >\n",
        "    <img src=\"../images/IA_ML_DL.png\" alt=\"IA ML DL\" width=\"400\">\n",
        "    \n",
        "</p>"
      ]
    },
    {
      "cell_type": "markdown",
      "metadata": {},
      "source": []
    },
    {
      "attachments": {},
      "cell_type": "markdown",
      "id": "b0847b8a",
      "metadata": {},
      "source": [
        "The father of the concept of Deep Learning was the British scientist Geoffrey Hinton. He conducted research on Deep Learning in the 1980s and currently works at Google. Many of the concepts and terminology we will discuss originate from Geoffrey Hinton's work. The main idea behind Deep Learning is to observe the human brain and draw inspiration from it to try to replicate its behavior computationally. Therefore, if our goal is to mimic the human brain, we need to bring certain elements of neuroscience into the computer."
      ]
    },
    {
      "attachments": {},
      "cell_type": "markdown",
      "id": "b05d7b4d",
      "metadata": {},
      "source": [
        "<p align=\"center\" >\n",
        "    <img src=\"../images/The_biological_neuron.png\" alt=\"biological neuron\" width=\"500\">\n",
        "    \n",
        "</p>\n",
        "<p align=\"center\"><span>A representative diagram of a biological neuron</span></p>"
      ]
    },
    {
      "attachments": {},
      "cell_type": "markdown",
      "id": "cb460889",
      "metadata": {},
      "source": [
        "<p align=\"center\" >\n",
        "    <img src=\"../images/Artificial_neuron.png\" alt=\"artificial neuron\" width=\"500\">\n",
        "    \n",
        "</p>\n",
        "<p align=\"center\"><span>A representative diagram of an artificial neuron</span></p>"
      ]
    },
    {
      "attachments": {},
      "cell_type": "markdown",
      "id": "ae48fc24",
      "metadata": {},
      "source": [
        "\n",
        "1. **Neural Networks:** We would begin by introducing the concept of artificial neural networks (ANNs). ANNS are a class of machine learning models inspired by the structure and functioning of biological neural networks. ANNs consist of interconnected nodes called neurons, organized in layers: an input layer, one or more hidden layers, and an output layer. Each neuron receives inputs from the previous layer, applies a mathematical operation to calculate the weighted sum of these inputs, and then passes the result through an activation function. The activation function introduces non-linearity to the output, allowing the network to learn complex relationships and patterns in the data. The output of each neuron in a layer becomes the input for the neurons in the next layer, ultimately leading to the final output of the network.\n"
      ]
    },
    {
      "attachments": {},
      "cell_type": "markdown",
      "id": "0e6ab6dc",
      "metadata": {},
      "source": [
        "<p align=\"center\">\n",
        "    <img src=\"../images/Artificial_neural_network.png\" alt=\"Artificial neural network\" width=\"500\">\n",
        "</p>\n",
        "<p align=\"center\"><span>A representative of Artificial neural network (ANN)</span></p>"
      ]
    },
    {
      "attachments": {},
      "cell_type": "markdown",
      "id": "f76e77cb",
      "metadata": {},
      "source": [
        "ANNs have the ability to learn and generalize from large amounts of data, making them suitable for various tasks such as image and speech recognition, natural language processing, and recommendation systems. Different architectures of ANNs, such as feedforward neural networks, recurrent neural networks, and convolutional neural networks, have been developed to handle specific types of data and problem domains. Continuous research and advancements in neural network architectures and training techniques continue to enhance their performance and enable them to tackle more complex tasks in the field of machine learning and artificial intelligence.\n",
        "\n",
        "\n"
      ]
    },
    {
      "attachments": {},
      "cell_type": "markdown",
      "id": "9679c0f9",
      "metadata": {},
      "source": [
        "<p align=\"center\">\n",
        "    <img src=\"../images/ANNs.svg\" alt=\"Different architectures of ANNs\" width=\"500\">\n",
        "</p>\n",
        "<p align=\"center\"><span>Different architectures of ANNs</span></p>"
      ]
    },
    {
      "attachments": {},
      "cell_type": "markdown",
      "id": "1ec6a704",
      "metadata": {},
      "source": [
        "2. **Forward Propagation:**  This is the mechanism by which data flows through the network from the input layer to the output layer. Each neuron receives inputs, performs computations, and passes the output to the next layer until the final output is produced. We would cover how the weights and biases of the neurons are used to compute the output."
      ]
    },
    {
      "attachments": {},
      "cell_type": "markdown",
      "id": "4555e0f7",
      "metadata": {},
      "source": [
        "3. **Activation Functions:** Activation functions play a crucial role in neural networks by introducing non-linearity, enabling the network to learn complex patterns. We would explore popular activation functions such as ReLU (Rectified Linear Unit), Sigmoid, and Tanh."
      ]
    },
    {
      "attachments": {},
      "cell_type": "markdown",
      "id": "f5d6888e",
      "metadata": {},
      "source": [
        "\n",
        "<p align=\"center\">\n",
        "    <img src=\"../images/sample-activation-functions-square.png\" alt=\"neural network\" width=\"500\">\n",
        "</p>"
      ]
    },
    {
      "attachments": {},
      "cell_type": "markdown",
      "id": "d54efb2a",
      "metadata": {},
      "source": [
        "4. **Training Neural Networks:** Training neural networks involves adjusting the weights and biases of the neurons to minimize the difference between the predicted output and the actual output. We would touch upon concepts such as loss functions, optimization algorithms (e.g., gradient descent), and backpropagation. Backpropagation computes the gradients of the network's parameters with respect to the loss, allowing for iterative updates to improve the network's performance."
      ]
    },
    {
      "attachments": {},
      "cell_type": "markdown",
      "id": "b4d74135",
      "metadata": {},
      "source": [
        "\n",
        "\n",
        "5. **Loss Functions:** Loss functions quantify the difference between the predicted output of a neural network and the actual output. They serve as a measure of how well the network is performing. Common loss functions include mean squared error (MSE) for regression problems and categorical cross-entropy for classification tasks. We would discuss the importance of selecting an appropriate loss function based on the problem at hand."
      ]
    },
    {
      "attachments": {},
      "cell_type": "markdown",
      "id": "c996a08f",
      "metadata": {},
      "source": [
        "6. **Gradient Descent:** Gradient descent is an optimization algorithm used to update the weights and biases of a neural network during training. It operates by iteratively adjusting the parameters in the direction of steepest descent of the loss function.\n"
      ]
    },
    {
      "attachments": {},
      "cell_type": "markdown",
      "id": "ef2db85f",
      "metadata": {},
      "source": [
        "\n",
        "7. **Overfitting and Underfitting:** Overfitting occurs when a neural network performs well on the training data but fails to generalize to new, unseen data. Underfitting, on the other hand, happens when the network fails to capture the patterns in the training data."
      ]
    },
    {
      "attachments": {},
      "cell_type": "markdown",
      "id": "4ee08190",
      "metadata": {},
      "source": [
        "8. **Validation and Evaluation:** Validation and evaluation are essential steps in assessing the performance of a trained neural network model. Validation involves assessing the model's performance on a separate dataset during training, while evaluation is done on an independent dataset to measure its generalization abilities. These steps help ensure that the model can make accurate predictions on unseen data and prevent overfitting. Metrics such as accuracy, precision, recall, or AUC-ROC are commonly used to evaluate the model's performance. The iterative process of validation and evaluation allows for refining the model and optimizing its performance."
      ]
    },
    {
      "attachments": {},
      "cell_type": "markdown",
      "id": "605a6772",
      "metadata": {},
      "source": [
        "9. **Hyperparameter Tuning:** Deep learning models have hyperparameters that need to be set manually before training. These include the learning rate, the number of layers and neurons, the activation functions, and regularization parameters."
      ]
    },
    {
      "attachments": {},
      "cell_type": "markdown",
      "id": "b5a99f12",
      "metadata": {},
      "source": [
        "10. **Model Selection and Saving:** Once we have trained and evaluated multiple models with different hyperparameters, we need to select the best-performing model for deployment. Saving a trained model allows it to be reused without the need to retrain it from scratch. Various techniques and formats can be used for saving models, such as serialization or exporting the model parameters to a file. This saved model can then be loaded and used for making predictions on new, unseen data. Proper model saving and loading mechanisms ensure that the trained model can be easily integrated into production systems or shared with others for further analysis or deployment.\n",
        "\n",
        "\n",
        "\n",
        "By covering these additional aspects of fundamentals, we would gain a comprehensive understanding of the key concepts and techniques that form the foundation of Deep Learning."
      ]
    }
  ],
  "metadata": {
    "kernelspec": {
      "display_name": "Python 3",
      "language": "python",
      "name": "python3"
    },
    "language_info": {
      "codemirror_mode": {
        "name": "ipython",
        "version": 3
      },
      "file_extension": ".py",
      "mimetype": "text/x-python",
      "name": "python",
      "nbconvert_exporter": "python",
      "pygments_lexer": "ipython3",
      "version": "3.11.6"
    },
    "vscode": {
      "interpreter": {
        "hash": "aee8b7b246df8f9039afb4144a1f6fd8d2ca17a180786b69acc140d282b71a49"
      }
    }
  },
  "nbformat": 4,
  "nbformat_minor": 5
}
