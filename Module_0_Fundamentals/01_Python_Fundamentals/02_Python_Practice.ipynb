{
 "cells": [
  {
   "cell_type": "code",
   "execution_count": 15,
   "metadata": {},
   "outputs": [
    {
     "name": "stdout",
     "output_type": "stream",
     "text": [
      "8\n"
     ]
    }
   ],
   "source": [
    "# Exercise 1\n",
    "# Write a program that takes two numbers as input and displays the difference between them.\n",
    "\n",
    "number1 = 5\n",
    "number2 = 3\n",
    "\n",
    "def sum_two_numbers(num1, num2):\n",
    "    return num1 + num2\n",
    "\n",
    "print(sum_two_numbers(number1, number2))"
   ]
  },
  {
   "cell_type": "code",
   "execution_count": 3,
   "metadata": {},
   "outputs": [
    {
     "name": "stdout",
     "output_type": "stream",
     "text": [
      "BIENVENIDA JOSS\n"
     ]
    }
   ],
   "source": [
    "# Exercise 2\n",
    "# Create a function that takes a string as an argument and prints it in uppercase.\n",
    "\n",
    "def get_to_upper_case(arg):\n",
    "    return arg.upper()\n",
    "\n",
    "print(get_to_upper_case('bienvenida joss'))"
   ]
  },
  {
   "cell_type": "code",
   "execution_count": 4,
   "metadata": {},
   "outputs": [
    {
     "name": "stdout",
     "output_type": "stream",
     "text": [
      "The largest number is: 9\n",
      "None\n"
     ]
    }
   ],
   "source": [
    "# Exercise 3\n",
    "# Write a program that takes a list of numbers as input and displays the largest number in the list.\n",
    "\n",
    "numbers = [4, 2, 9, 5, 1]\n",
    "\n",
    "def find_largest_number(numbers):\n",
    "    largest_number = max(numbers)\n",
    "    print(\"The largest number is:\", largest_number)\n",
    "\n",
    "print(find_largest_number(numbers))"
   ]
  },
  {
   "cell_type": "code",
   "execution_count": 5,
   "metadata": {},
   "outputs": [
    {
     "name": "stdout",
     "output_type": "stream",
     "text": [
      "The number of letters in the text string is: 10\n"
     ]
    }
   ],
   "source": [
    "# Exercise 4\n",
    "# Create a function that takes a text string and counts the number of letters it contains.\n",
    "\n",
    "def count_letters(text):\n",
    "    letter_count = 0\n",
    "    for char in text:\n",
    "        if char.isalpha():\n",
    "            letter_count += 1\n",
    "    return letter_count\n",
    "\n",
    "# Example usage\n",
    "text_string = \"Hello, world!\"\n",
    "result = count_letters(text_string)\n",
    "print(\"The number of letters in the text string is:\", result) "
   ]
  },
  {
   "cell_type": "code",
   "execution_count": 6,
   "metadata": {},
   "outputs": [
    {
     "name": "stdout",
     "output_type": "stream",
     "text": [
      "The length of hello is 5\n",
      "The length of world is 5\n",
      "The length of python is 6\n"
     ]
    }
   ],
   "source": [
    "# Exercise 5\n",
    "# Write a program that takes a list of words as input and displays the length of each word in the list.\n",
    "\n",
    "words = [\"hello\", \"world\", \"python\"]\n",
    "\n",
    "def display_word_lengths(word_list):\n",
    "    for word in word_list:\n",
    "        length = len(word)\n",
    "        print(\"The length of\", word, \"is\", length)\n",
    "\n",
    "display_word_lengths(words)"
   ]
  },
  {
   "cell_type": "code",
   "execution_count": 7,
   "metadata": {},
   "outputs": [
    {
     "name": "stdout",
     "output_type": "stream",
     "text": [
      "The product of 5 and 10 is 50\n"
     ]
    }
   ],
   "source": [
    "# Exercise 6\n",
    "# Create a function that takes two numbers as arguments and returns the result of multiplying them.\n",
    "\n",
    "\n",
    "number1 = 5\n",
    "number2 = 10\n",
    "\n",
    "def multiply_numbers(num1, num2):\n",
    "    result = num1 * num2\n",
    "    return result\n",
    "\n",
    "product = multiply_numbers(number1, number2)\n",
    "print(\"The product of\", number1, \"and\", number2, \"is\", product)"
   ]
  },
  {
   "cell_type": "code",
   "execution_count": 8,
   "metadata": {},
   "outputs": [
    {
     "name": "stdout",
     "output_type": "stream",
     "text": [
      "Even numbers in the list: [2, 4, 6, 8, 10]\n"
     ]
    }
   ],
   "source": [
    "# Exercise 7\n",
    "# Write a program that takes a list of numbers as input and displays only the even numbers in the list.\n",
    "\n",
    "numbers = [1, 2, 3, 4, 5, 6, 7, 8, 9, 10]\n",
    "\n",
    "def display_even_numbers(number_list):\n",
    "    even_numbers = []\n",
    "    for num in number_list:\n",
    "        if num % 2 == 0:\n",
    "            even_numbers.append(num)\n",
    "    print(\"Even numbers in the list:\", even_numbers)\n",
    "\n",
    "display_even_numbers(numbers)"
   ]
  },
  {
   "cell_type": "code",
   "execution_count": 9,
   "metadata": {},
   "outputs": [
    {
     "name": "stdout",
     "output_type": "stream",
     "text": [
      "The inverted string is: !dlrow ,olleH\n"
     ]
    }
   ],
   "source": [
    "# Exercise 8\n",
    "# Create a function that takes a string and returns the inverted string.\n",
    "\n",
    "string = \"Hello, world!\"\n",
    "\n",
    "def invert_string(input_string):\n",
    "    inverted_string = ''.join(reversed(input_string))\n",
    "    return inverted_string\n",
    "\n",
    "inverted = invert_string(string)\n",
    "print(\"The inverted string is:\", inverted)"
   ]
  },
  {
   "cell_type": "code",
   "execution_count": 10,
   "metadata": {},
   "outputs": [
    {
     "name": "stdout",
     "output_type": "stream",
     "text": [
      "Words starting with 'a': ['apple', 'airplane']\n"
     ]
    }
   ],
   "source": [
    "# Exercise 9\n",
    "# Write a program that takes a list of words as input and displays only words beginning with the letter 'a'.\n",
    "\n",
    "words = [\"car\", \"apple\", \"airplane\", \"dog\", \"cat\"]\n",
    "\n",
    "def display_words_starting_with_a(word_list):\n",
    "    words_starting_with_a = []\n",
    "    for word in word_list:\n",
    "        if word.startswith('a'):\n",
    "            words_starting_with_a.append(word)\n",
    "    print(\"Words starting with 'a':\", words_starting_with_a)\n",
    "\n",
    "display_words_starting_with_a(words)"
   ]
  },
  {
   "cell_type": "code",
   "execution_count": 17,
   "metadata": {},
   "outputs": [
    {
     "name": "stdout",
     "output_type": "stream",
     "text": [
      "15\n"
     ]
    }
   ],
   "source": [
    "# Exercise 10\n",
    "# Create a function that takes a list of numbers as an argument and returns the sum of all the numbers in the list.\n",
    "\n",
    "numbers = [1, 2, 3, 4, 5]\n",
    "\n",
    "def calculate_sum(number_list):\n",
    "    total_sum = 0\n",
    "    for num in number_list:\n",
    "        total_sum += num\n",
    "    return total_sum\n",
    "\n",
    "print(calculate_sum(numbers))"
   ]
  }
 ],
 "metadata": {
  "kernelspec": {
   "display_name": "Python 3",
   "language": "python",
   "name": "python3"
  },
  "language_info": {
   "codemirror_mode": {
    "name": "ipython",
    "version": 3
   },
   "file_extension": ".py",
   "mimetype": "text/x-python",
   "name": "python",
   "nbconvert_exporter": "python",
   "pygments_lexer": "ipython3",
   "version": "3.11.6"
  },
  "orig_nbformat": 4,
  "vscode": {
   "interpreter": {
    "hash": "aee8b7b246df8f9039afb4144a1f6fd8d2ca17a180786b69acc140d282b71a49"
   }
  }
 },
 "nbformat": 4,
 "nbformat_minor": 2
}
