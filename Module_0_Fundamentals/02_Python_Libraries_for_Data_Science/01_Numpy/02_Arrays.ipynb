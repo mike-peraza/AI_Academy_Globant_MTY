{
 "cells": [
  {
   "cell_type": "markdown",
   "metadata": {},
   "source": [
    "# Recap:\n",
    "\n",
    "NumPy is a Python library that is widely used for numerical computing and data analysis tasks. One of its core features is the manipulation of arrays and matrices. In this guide, we'll explore how to create, manipulate, and perform basic operations on arrays and matrices using NumPy."
   ]
  },
  {
   "cell_type": "markdown",
   "metadata": {},
   "source": [
    "### Creating Arrays:\n",
    "\n",
    "NumPy arrays are homogeneous, multi-dimensional data structures that can store elements of the same data type. Here's how you can create arrays:"
   ]
  },
  {
   "cell_type": "code",
   "execution_count": null,
   "metadata": {
    "vscode": {
     "languageId": "plaintext"
    }
   },
   "outputs": [],
   "source": [
    "import numpy as np\n",
    "\n",
    "# Create a 1D array\n",
    "arr1d = np.array([1, 2, 3, 4, 5])\n",
    "\n",
    "# Create a 2D array (matrix)\n",
    "arr2d = np.array([[1, 2, 3], [4, 5, 6]])\n"
   ]
  },
  {
   "cell_type": "markdown",
   "metadata": {},
   "source": [
    "### Array Attributes:\n",
    "\n",
    "Arrays have several attributes that provide information about their shape, size, and data type:"
   ]
  },
  {
   "cell_type": "code",
   "execution_count": null,
   "metadata": {
    "vscode": {
     "languageId": "plaintext"
    }
   },
   "outputs": [],
   "source": [
    "print(arr1d.shape)   # Shape of the array\n",
    "print(arr2d.ndim)    # Number of dimensions\n",
    "print(arr2d.dtype)   # Data type of elements"
   ]
  },
  {
   "cell_type": "markdown",
   "metadata": {},
   "source": [
    "### Accessing Elements:\n",
    "\n",
    "You can access elements of an array using indexing and slicing:"
   ]
  },
  {
   "cell_type": "code",
   "execution_count": null,
   "metadata": {
    "vscode": {
     "languageId": "plaintext"
    }
   },
   "outputs": [],
   "source": [
    "print(arr1d[0])         # Accessing the first element\n",
    "print(arr2d[1, 2])      # Accessing an element in a 2D array\n",
    "print(arr1d[2:4])       # Slicing a 1D array\n",
    "print(arr2d[:, 1:])     # Slicing rows and columns of a 2D array"
   ]
  },
  {
   "cell_type": "markdown",
   "metadata": {},
   "source": [
    "### Array Operations:\n",
    "\n",
    "NumPy allows you to perform element-wise operations on arrays without using explicit loops:"
   ]
  },
  {
   "cell_type": "code",
   "execution_count": null,
   "metadata": {
    "vscode": {
     "languageId": "plaintext"
    }
   },
   "outputs": [],
   "source": [
    "arr = np.array([1, 2, 3, 4, 5])\n",
    "\n",
    "# Scalar addition\n",
    "result = arr + 10\n",
    "\n",
    "# Element-wise multiplication\n",
    "result = arr * 2\n",
    "\n",
    "# Element-wise square root\n",
    "result = np.sqrt(arr)"
   ]
  }
 ],
 "metadata": {
  "language_info": {
   "name": "python"
  }
 },
 "nbformat": 4,
 "nbformat_minor": 2
}
