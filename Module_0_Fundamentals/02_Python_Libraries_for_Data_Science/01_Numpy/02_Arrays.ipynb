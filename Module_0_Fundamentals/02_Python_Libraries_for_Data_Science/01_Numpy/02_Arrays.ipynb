{
 "cells": [
  {
   "cell_type": "markdown",
   "metadata": {},
   "source": [
    "# Recap:\n",
    "\n",
    "NumPy is a Python library that is widely used for numerical computing and data analysis tasks. One of its core features is the manipulation of arrays and matrices. In this guide, we'll explore how to create, manipulate, and perform basic operations on arrays and matrices using NumPy."
   ]
  },
  {
   "cell_type": "markdown",
   "metadata": {},
   "source": [
    "### Creating Arrays:\n",
    "\n",
    "NumPy arrays are homogeneous, multi-dimensional data structures that can store elements of the same data type. Here's how you can create arrays:"
   ]
  },
  {
   "cell_type": "code",
   "execution_count": 11,
   "metadata": {},
   "outputs": [],
   "source": [
    "import numpy as np\n",
    "\n",
    "# Create a 1D array\n",
    "arr1d = np.array([1, 2, 3, 4, 5])\n",
    "\n",
    "# Create a 2D array (matrix)\n",
    "arr2d = np.array([[1, 2, 3], [4, 5, 6]])\n"
   ]
  },
  {
   "cell_type": "markdown",
   "metadata": {},
   "source": [
    "### Array Attributes:\n",
    "\n",
    "Arrays have several attributes that provide information about their shape, size, and data type:"
   ]
  },
  {
   "cell_type": "code",
   "execution_count": 1,
   "metadata": {},
   "outputs": [
    {
     "ename": "NameError",
     "evalue": "name 'arr1d' is not defined",
     "output_type": "error",
     "traceback": [
      "\u001b[1;31m---------------------------------------------------------------------------\u001b[0m",
      "\u001b[1;31mNameError\u001b[0m                                 Traceback (most recent call last)",
      "Cell \u001b[1;32mIn[1], line 1\u001b[0m\n\u001b[1;32m----> 1\u001b[0m \u001b[38;5;28mprint\u001b[39m(\u001b[43marr1d\u001b[49m\u001b[38;5;241m.\u001b[39mshape)   \u001b[38;5;66;03m# Shape of the array\u001b[39;00m\n\u001b[0;32m      2\u001b[0m \u001b[38;5;28mprint\u001b[39m(arr2d\u001b[38;5;241m.\u001b[39mndim)    \u001b[38;5;66;03m# Number of dimensions\u001b[39;00m\n\u001b[0;32m      3\u001b[0m \u001b[38;5;28mprint\u001b[39m(arr2d\u001b[38;5;241m.\u001b[39mdtype)   \u001b[38;5;66;03m# Data type of elements\u001b[39;00m\n",
      "\u001b[1;31mNameError\u001b[0m: name 'arr1d' is not defined"
     ]
    }
   ],
   "source": [
    "print(arr1d.shape)   # Shape of the array\n",
    "print(arr2d.ndim)    # Number of dimensions\n",
    "print(arr2d.dtype)   # Data type of elements"
   ]
  },
  {
   "cell_type": "markdown",
   "metadata": {},
   "source": [
    "### Accessing Elements:\n",
    "\n",
    "You can access elements of an array using indexing and slicing:"
   ]
  },
  {
   "cell_type": "code",
   "execution_count": 10,
   "metadata": {},
   "outputs": [
    {
     "name": "stdout",
     "output_type": "stream",
     "text": [
      "1\n",
      "6\n",
      "[3 4]\n",
      "[[2 3]\n",
      " [5 6]]\n"
     ]
    }
   ],
   "source": [
    "print(arr1d[0])         # Accessing the first element\n",
    "print(arr2d[1, 2])      # Accessing an element in a 2D array\n",
    "print(arr1d[2:4])       # Slicing a 1D array\n",
    "print(arr2d[:, 1:])     # Slicing rows and columns of a 2D array"
   ]
  },
  {
   "cell_type": "markdown",
   "metadata": {},
   "source": [
    "### Array Operations:\n",
    "\n",
    "NumPy allows you to perform element-wise operations on arrays without using explicit loops:"
   ]
  },
  {
   "cell_type": "code",
   "execution_count": 3,
   "metadata": {},
   "outputs": [],
   "source": [
    "import numpy as np\n",
    "arr = np.array([1, 2, 3, 4, 5])\n",
    "\n",
    "# Scalar addition\n",
    "result = arr + 10\n",
    "\n",
    "# Element-wise multiplication\n",
    "result = arr * 2\n",
    "\n",
    "# Element-wise square root\n",
    "result = np.sqrt(arr)"
   ]
  }
 ],
 "metadata": {
  "kernelspec": {
   "display_name": "Python 3",
   "language": "python",
   "name": "python3"
  },
  "language_info": {
   "codemirror_mode": {
    "name": "ipython",
    "version": 3
   },
   "file_extension": ".py",
   "mimetype": "text/x-python",
   "name": "python",
   "nbconvert_exporter": "python",
   "pygments_lexer": "ipython3",
   "version": "3.11.9"
  }
 },
 "nbformat": 4,
 "nbformat_minor": 2
}
